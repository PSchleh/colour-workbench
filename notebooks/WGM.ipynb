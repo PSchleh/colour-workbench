{
 "cells": [
  {
   "cell_type": "code",
   "execution_count": 17,
   "metadata": {},
   "outputs": [],
   "source": [
    "from colour.appearance.cam16 import MATRIX_16, MATRIX_INVERSE_16\n",
    "\n",
    "from colour.temperature.ohno2013 import XYZ_to_CCT_Ohno2013, CCT_to_XYZ_Ohno2013\n",
    "from numpy import typing as npt\n",
    "import numpy as np\n",
    "\n",
    "def LMS_to_CCT(lms: npt.ArrayLike):\n",
    "    return XYZ_to_CCT_Ohno2013((MATRIX_INVERSE_16.dot(lms)))\n",
    "\n",
    "\n",
    "def CCT_to_LMS(cct_duv: npt.ArrayLike):\n",
    "    return MATRIX_16.dot(CCT_to_XYZ_Ohno2013(cct_duv))\n",
    "\n",
    "REFERENCE_ILLUMINANT = CCT_to_LMS((15000, 0)) # Chosen by WGM model\n",
    "\n",
    "def WGM_achromatic_appearing_point(lms_n: npt.ArrayLike, D: float = 0.68):\n",
    "    lms_n = np.asarray(lms_n)\n",
    "\n",
    "    return lms_n**D * REFERENCE_ILLUMINANT ** (1-D)\n",
    "\n",
    "def WGM_matrix(lms_n: npt.ArrayLike, D: float = 0.68):\n",
    "    lms_a = WGM_achromatic_appearing_point(lms_n,D)\n",
    "    return np.diag(1 / lms_a)"
   ]
  },
  {
   "cell_type": "code",
   "execution_count": 20,
   "metadata": {},
   "outputs": [
    {
     "data": {
      "text/plain": [
       "array([  5.03315822e+03,   1.33557395e-03])"
      ]
     },
     "execution_count": 20,
     "metadata": {},
     "output_type": "execute_result"
    }
   ],
   "source": [
    "## Adapting Condition \n",
    "cct = (4000, 0.0032)\n",
    "\n",
    "achromatic_point = WGM_achromatic_appearing_point(CCT_to_LMS(cct), D=.68)\n",
    "LMS_to_CCT(achromatic_point)"
   ]
  }
 ],
 "metadata": {
  "kernelspec": {
   "display_name": "colour-workbench-T5AcbVvg-py3.11",
   "language": "python",
   "name": "python3"
  },
  "language_info": {
   "codemirror_mode": {
    "name": "ipython",
    "version": 3
   },
   "file_extension": ".py",
   "mimetype": "text/x-python",
   "name": "python",
   "nbconvert_exporter": "python",
   "pygments_lexer": "ipython3",
   "version": "3.11.6"
  }
 },
 "nbformat": 4,
 "nbformat_minor": 2
}
