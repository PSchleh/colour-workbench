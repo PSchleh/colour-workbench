{
 "cells": [
  {
   "cell_type": "markdown",
   "metadata": {},
   "source": [
    "# LED Display Reflectance and Precision Analysis\n",
    "\n",
    "Prepared by the Entertainment Technology Center @ USC, based on preparation\n",
    "and measurements taken in January of 2023. \n",
    "\n",
    "This document shows the main types of color analysis and error plots published\n",
    "previously in the ETC LED Display report, 2023. \n",
    "\n",
    "For questions please contact @@@"
   ]
  },
  {
   "cell_type": "code",
   "execution_count": null,
   "metadata": {},
   "outputs": [],
   "source": []
  }
 ],
 "metadata": {
  "language_info": {
   "name": "python"
  }
 },
 "nbformat": 4,
 "nbformat_minor": 2
}
